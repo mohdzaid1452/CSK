{
 "cells": [
  {
   "cell_type": "code",
   "execution_count": 18,
   "id": "bbe8297f",
   "metadata": {},
   "outputs": [
    {
     "name": "stdout",
     "output_type": "stream",
     "text": [
      "enter a no:4\n",
      "enter a no:6\n",
      "sum= 10.0\n"
     ]
    }
   ],
   "source": [
    "def add_numbers(a: int,b :int):\n",
    "    return a+b\n",
    "a=int(input(\"enter a no:\"))\n",
    "b=float(input(\"enter a no:\"))\n",
    "\n",
    "print(\"sum=\",add_numbers(a,b))"
   ]
  },
  {
   "cell_type": "code",
   "execution_count": 15,
   "id": "9d64a890",
   "metadata": {},
   "outputs": [
    {
     "name": "stdout",
     "output_type": "stream",
     "text": [
      " Process No. Process Size      Block no.\n",
      "  1           212           Not Allocated\n",
      "  2           417           Not Allocated\n",
      "  3           112           Not Allocated\n",
      "  4           426           Not Allocated\n"
     ]
    }
   ],
   "source": [
    "# Python3 implementation of First-Fit algorithm\n",
    "\n",
    "def firstFit(blockSize, m, processSize, n):\n",
    "     \n",
    "\n",
    "    allocation = [-1] * n\n",
    " \n",
    "    for i in range(n):\n",
    "        for j in range(m):\n",
    "            if blockSize[j] >= processSize[i]:\n",
    "                 \n",
    "                # allocate block j to p[i] process\n",
    "                allocation[i] = j\n",
    " \n",
    "                # Reduce available memory in this block.\n",
    "                blockSize[j] -= processSize[i]\n",
    " \n",
    "                break\n",
    " \n",
    "    print(\" Process No. Process Size      Block no.\")\n",
    "    for i in range(n):\n",
    "        print(\" \", i + 1, \"         \", processSize[i],\n",
    "                          \"         \", end = \" \")\n",
    "        if allocation[i] !=-1 :\n",
    "            print(allocation[i] + 1)\n",
    "        else:\n",
    "            print(\"Not Allocated\")\n",
    " \n",
    "# Driver code\n",
    "if __name__ == '__main__':\n",
    "    blockSize = [0,0, 0, 0]\n",
    "    processSize = [212, 417, 112, 426]\n",
    "    m = len(blockSize)\n",
    "    n = len(processSize)\n",
    " \n",
    "    firstFit(blockSize, m, processSize, n)\n"
   ]
  },
  {
   "cell_type": "code",
   "execution_count": 1,
   "id": "6476e490",
   "metadata": {},
   "outputs": [
    {
     "name": "stdout",
     "output_type": "stream",
     "text": [
      "take a number: 4\n",
      "take a number: 5\n",
      "take a number: 1\n",
      "False\n"
     ]
    }
   ],
   "source": [
    "def ascending_order(a: int , b:int ):\n",
    "    return a<b<c\n",
    "a=int(input('take a number: '))\n",
    "b=int(input('take a number: '))\n",
    "c=int(input('take a number: '))\n",
    "d=a<b<c\n",
    "print(d)"
   ]
  },
  {
   "cell_type": "code",
   "execution_count": 11,
   "id": "a5467170",
   "metadata": {},
   "outputs": [
    {
     "name": "stdout",
     "output_type": "stream",
     "text": [
      "Please enter the Total Number of List Elements: 4\n",
      "Please enter the Value of the Element : 7\n",
      "the given array: 7\n",
      "Please enter the Value of the Element : 3\n",
      "the given array: 3\n",
      "Please enter the Value of the Element : 1\n",
      "the given array: 1\n",
      "Please enter the Value of the Element : 9\n",
      "the given array: 9\n",
      "Element After Sorting List in Ascending Order is :  [1, 3, 7, 9]\n"
     ]
    }
   ],
   "source": [
    "def ascending_order (number: int , value: int ):\n",
    "    return number\n",
    "Number_of_list = []\n",
    "\n",
    "Number = int(input(\"Please enter the Total Number of List Elements: \"))\n",
    "for i in range(1, Number + 1):\n",
    "    value = int(input(\"Please enter the Value of the Element : \" ))\n",
    "    Number_of_list.append(value)\n",
    "    print(\"the given array:\", value)\n",
    "\n",
    "for i in range (Number):\n",
    "    for j in range(i + 1, Number):\n",
    "        if(Number_of_list[i] > Number_of_list[j]):\n",
    "            temp = Number_of_list[i]\n",
    "            Number_of_list[i] = Number_of_list[j]\n",
    "            Number_of_list[j] = temp\n",
    "\n",
    "print(\"Element After Sorting List in Ascending Order is : \", Number_of_list)"
   ]
  },
  {
   "cell_type": "code",
   "execution_count": null,
   "id": "3adbf375",
   "metadata": {},
   "outputs": [],
   "source": []
  }
 ],
 "metadata": {
  "kernelspec": {
   "display_name": "Python 3 (ipykernel)",
   "language": "python",
   "name": "python3"
  },
  "language_info": {
   "codemirror_mode": {
    "name": "ipython",
    "version": 3
   },
   "file_extension": ".py",
   "mimetype": "text/x-python",
   "name": "python",
   "nbconvert_exporter": "python",
   "pygments_lexer": "ipython3",
   "version": "3.9.12"
  }
 },
 "nbformat": 4,
 "nbformat_minor": 5
}
